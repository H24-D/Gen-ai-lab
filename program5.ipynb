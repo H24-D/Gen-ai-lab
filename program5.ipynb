{
  "nbformat": 4,
  "nbformat_minor": 0,
  "metadata": {
    "colab": {
      "provenance": [],
      "authorship_tag": "ABX9TyNC/SWH7iEIr5Ty/siCeZ9f",
      "include_colab_link": true
    },
    "kernelspec": {
      "name": "python3",
      "display_name": "Python 3"
    },
    "language_info": {
      "name": "python"
    }
  },
  "cells": [
    {
      "cell_type": "markdown",
      "metadata": {
        "id": "view-in-github",
        "colab_type": "text"
      },
      "source": [
        "<a href=\"https://colab.research.google.com/github/H24-D/Gen-ai-lab/blob/main/program5.ipynb\" target=\"_parent\"><img src=\"https://colab.research.google.com/assets/colab-badge.svg\" alt=\"Open In Colab\"/></a>"
      ]
    },
    {
      "cell_type": "code",
      "execution_count": null,
      "metadata": {
        "id": "mlOK258yhiP2"
      },
      "outputs": [],
      "source": [
        "!pip install -q langchain-google-genai gradio"
      ]
    },
    {
      "cell_type": "code",
      "source": [
        "from langchain_google_genai import ChatGoogleGenerativeAI\n",
        "from langchain_core.messages import HumanMessage\n",
        "import gradio as gr\n",
        "from getpass import getpass\n",
        "import os\n",
        "GOOGLE_API_KEY=getpass(\"Enter your google api key\")\n",
        "llm=ChatGoogleGenerativeAI(\n",
        "    model=\"gemini-2.0-flash-exp\",\n",
        "    temperature=0.8,\n",
        "    api_key=GOOGLE_API_KEY,\n",
        "    max_tokens=512,\n",
        "    timeout=30,\n",
        "    max_retries=3\n",
        ")\n",
        "print(\"Gemini LLM is ready\")\n"
      ],
      "metadata": {
        "id": "c1jcOhUxhkDw",
        "colab": {
          "base_uri": "https://localhost:8080/"
        },
        "outputId": "a68a379a-bf47-4edb-9b7c-d72fbafac31b"
      },
      "execution_count": 29,
      "outputs": [
        {
          "output_type": "stream",
          "name": "stdout",
          "text": [
            "Enter your google api key··········\n",
            "Gemini LLM is ready\n"
          ]
        }
      ]
    },
    {
      "cell_type": "code",
      "source": [
        "def get_similar_words(seed):\n",
        "    prompt = (\n",
        "        f\"Give me 5 English words that are semantically or creatively similar to '{seed}'. \"\n",
        "        f\"Return the words as a comma-separated list without numbers or explanations.\"\n",
        "    )\n",
        "    response = llm.invoke([HumanMessage(content=prompt)])\n",
        "    return [word.strip() for word in response.content.split(',') if word.strip()]\n"
      ],
      "metadata": {
        "id": "Pi3PJdr9hkJW"
      },
      "execution_count": 30,
      "outputs": []
    },
    {
      "cell_type": "code",
      "source": [
        "def create_paragraph(seed, words):\n",
        "    word_list = ', '.join(words)\n",
        "    prompt = (\n",
        "        f\"Write a short, creative paragraph using the word '{seed}' and the following related words: \"\n",
        "        f\"{word_list}. The paragraph should be imaginative and meaningful.\"\n",
        "    )\n",
        "    response = llm.invoke([HumanMessage(content=prompt)])\n",
        "    return response.content"
      ],
      "metadata": {
        "id": "Weyix9_phkL5"
      },
      "execution_count": 31,
      "outputs": []
    },
    {
      "cell_type": "code",
      "source": [
        "def generate_paragraphs(seed_word):\n",
        "    try:\n",
        "        seed_word = seed_word.strip()\n",
        "        if not seed_word:\n",
        "            return \"Please enter a valid seed word.\"\n",
        "\n",
        "        similar_words = get_similar_words(seed_word)\n",
        "        if len(similar_words) < 3:\n",
        "            return \"Could not find similar words. Try a different seed word.\"\n",
        "\n",
        "        output_text = f\"Seed Word: {seed_word}\\nSimilar Words: {', '.join(similar_words)}\\n\\n\"\n",
        "\n",
        "        for i in range(1, 4):\n",
        "            paragraph = create_paragraph(seed_word, similar_words) or f\"(Variation {i}) Could not generate paragraph.\"\n",
        "            output_text += f\"--- Variation {i} ---\\n{paragraph.strip()}\\n\\n\"\n",
        "\n",
        "        return output_text\n",
        "\n",
        "    except Exception as e:\n",
        "        return f\"Error: {str(e)}\"\n"
      ],
      "metadata": {
        "id": "8_W3uju4hkOT"
      },
      "execution_count": 32,
      "outputs": []
    },
    {
      "cell_type": "code",
      "source": [
        "gr.Interface(\n",
        "    fn=generate_paragraphs,\n",
        "    inputs=gr.Textbox(label=\"Enter a Seed Word\"),\n",
        "    outputs=gr.Markdown(label=\"Generated Paragraphs\"),\n",
        "    title=\"Creative Writer\",\n",
        "    description=\"Enter a seed word. This app will find similar words using Gemini and generate 3 creative paragraph variations.\",\n",
        "    theme=\"default\",\n",
        ").launch(debug=False)"
      ],
      "metadata": {
        "id": "04XJXG5nhkQs",
        "colab": {
          "base_uri": "https://localhost:8080/",
          "height": 650
        },
        "outputId": "ccac4fde-bafc-4b00-b6bc-97a4b29cceaf"
      },
      "execution_count": 33,
      "outputs": [
        {
          "output_type": "stream",
          "name": "stdout",
          "text": [
            "It looks like you are running Gradio on a hosted a Jupyter notebook. For the Gradio app to work, sharing must be enabled. Automatically setting `share=True` (you can turn this off by setting `share=False` in `launch()` explicitly).\n",
            "\n",
            "Colab notebook detected. To show errors in colab notebook, set debug=True in launch()\n",
            "* Running on public URL: https://9c4528efd86a1e6074.gradio.live\n",
            "\n",
            "This share link expires in 1 week. For free permanent hosting and GPU upgrades, run `gradio deploy` from the terminal in the working directory to deploy to Hugging Face Spaces (https://huggingface.co/spaces)\n"
          ]
        },
        {
          "output_type": "display_data",
          "data": {
            "text/plain": [
              "<IPython.core.display.HTML object>"
            ],
            "text/html": [
              "<div><iframe src=\"https://9c4528efd86a1e6074.gradio.live\" width=\"100%\" height=\"500\" allow=\"autoplay; camera; microphone; clipboard-read; clipboard-write;\" frameborder=\"0\" allowfullscreen></iframe></div>"
            ]
          },
          "metadata": {}
        },
        {
          "output_type": "execute_result",
          "data": {
            "text/plain": []
          },
          "metadata": {},
          "execution_count": 33
        }
      ]
    },
    {
      "cell_type": "code",
      "source": [],
      "metadata": {
        "id": "c_SWWmx2hkS-"
      },
      "execution_count": null,
      "outputs": []
    },
    {
      "cell_type": "code",
      "source": [],
      "metadata": {
        "id": "nTezf7ShhkV4"
      },
      "execution_count": null,
      "outputs": []
    },
    {
      "cell_type": "code",
      "source": [],
      "metadata": {
        "id": "cRuAnjnkhkYt"
      },
      "execution_count": null,
      "outputs": []
    }
  ]
}